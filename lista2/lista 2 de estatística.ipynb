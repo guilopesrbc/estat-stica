{
 "cells": [
  {
   "cell_type": "markdown",
   "id": "3bab9fa5",
   "metadata": {},
   "source": [
    "# Lista 2 de estatística"
   ]
  },
  {
   "cell_type": "code",
   "execution_count": 1,
   "id": "4b3f03a8",
   "metadata": {},
   "outputs": [],
   "source": [
    "import math # biblioteca que auxialará nos calculos envolvendo fatorial, combinação , permutação\n",
    "\n",
    "# combinação : n! / (k! * (n - k)!\n",
    "# permutação : n! / (n - k)!"
   ]
  },
  {
   "cell_type": "markdown",
   "id": "8f1ecfd7",
   "metadata": {},
   "source": [
    "# 1ª questão"
   ]
  },
  {
   "cell_type": "code",
   "execution_count": 2,
   "id": "e39c1472",
   "metadata": {},
   "outputs": [
    {
     "name": "stdout",
     "output_type": "stream",
     "text": [
      "Resposta: 120\n"
     ]
    }
   ],
   "source": [
    "# combinação\n",
    "resposta = math.comb(10,7)\n",
    "print(f'Resposta: {resposta:.0f}')"
   ]
  },
  {
   "cell_type": "markdown",
   "id": "678153ea",
   "metadata": {},
   "source": [
    "# 2ª questão"
   ]
  },
  {
   "cell_type": "code",
   "execution_count": 3,
   "id": "a2fbeb4c",
   "metadata": {},
   "outputs": [
    {
     "name": "stdout",
     "output_type": "stream",
     "text": [
      "a) Resposta: 0.25\n",
      "b) Resposta: 0.2\n"
     ]
    }
   ],
   "source": [
    "# a)\n",
    "espaco_amostral = 20\n",
    "evento_desejados = 5\n",
    "# probabilidade = eventos / espaço amostral \n",
    "probabilidade = evento_desejados / espaco_amostral\n",
    "print(f'a) Resposta: {probabilidade}')\n",
    "\n",
    "#b)\n",
    "espaco_amostral = 20\n",
    "evento_desejados = 4\n",
    "probabilidade = evento_desejados / espaco_amostral\n",
    "print(f'b) Resposta: {probabilidade}')"
   ]
  },
  {
   "cell_type": "markdown",
   "id": "099adb1b",
   "metadata": {},
   "source": [
    "# 3ª questão"
   ]
  },
  {
   "cell_type": "code",
   "execution_count": 4,
   "id": "84a7dfe6",
   "metadata": {},
   "outputs": [
    {
     "name": "stdout",
     "output_type": "stream",
     "text": [
      "Resposta: 0.5277777777777777 ou 19/36\n"
     ]
    }
   ],
   "source": [
    "# evento que os dois numeros da positivo \n",
    "espaco_amostral = 6\n",
    "eventos_positivos = 3\n",
    "\n",
    "probabilidade_positivo = (3 / 6) * (3 / 6) # 1/4\n",
    "# evento que os dois numeros sao negativos\n",
    "espaco_amostral = 6\n",
    "eventos_negativos = 2\n",
    "\n",
    "probabilidade_negativo = (2 / 6) * (2 / 6) # 1/9\n",
    "\n",
    "# evento que ao menos um dos numeros vai ser zero, ou seja, nao sera negativo o produto\n",
    "probabilidade_zero = (1 / 6) * (6 / 6) # 1/6 \n",
    "prob_total = probabilidade_zero + probabilidade_positivo + probabilidade_negativo\n",
    "\n",
    "\n",
    "# como vai ser rodado duas vezes\n",
    "print(f'Resposta: {prob_total} ou 19/36')"
   ]
  },
  {
   "cell_type": "markdown",
   "id": "54660e87",
   "metadata": {},
   "source": [
    "# 4ª questão"
   ]
  },
  {
   "cell_type": "code",
   "execution_count": 5,
   "id": "be5c13f0",
   "metadata": {},
   "outputs": [
    {
     "name": "stdout",
     "output_type": "stream",
     "text": [
      "a) (1, 5)\n",
      "\n",
      "b) (1, 3, 5, 6, 7, 8, 9, 10)\n",
      "\n",
      "c) (1, 3, 5, 6, 7, 8, 9, 10)\n",
      "\n",
      "d) (1, 2, 3, 4, 5)\n",
      "\n",
      "e) (1, 2, 4, 5, 6, 7, 8, 9, 10)\n"
     ]
    }
   ],
   "source": [
    "# função que retorna a interseção de dois conjuntos\n",
    "def intersecao(array1 , array2):\n",
    "    lista_aux = []\n",
    "    for num1 in array1:\n",
    "        for num2 in array2:\n",
    "            if num1 == num2:\n",
    "                lista_aux.append(num2)\n",
    "    return lista_aux\n",
    "\n",
    "# função que retorna o complemento do conjunto\n",
    "def complemento(espaco_amostral, array):\n",
    "    lista_aux = []\n",
    "    for num1 in espaco_amostral:\n",
    "        contem = False\n",
    "        for num2 in array:\n",
    "            if num1 == num2:\n",
    "                contem = True\n",
    "        if contem is False:\n",
    "            lista_aux.append(num1)\n",
    "    return lista_aux\n",
    "# função que retorna a união de dois conjuntos\n",
    "def uniao(array1, array2):\n",
    "    lista_aux = array1 +array2\n",
    "    lista_aux.sort()\n",
    "    lista_final = []\n",
    "    for num in lista_aux:\n",
    "        if num not in lista_final:\n",
    "            lista_final.append(num)\n",
    "    return lista_final\n",
    "\n",
    "espaco_amostral = [1,2,3,4,5,6,7,8,9,10]\n",
    "\n",
    "a = [2,3,4]\n",
    "b = [3,1,5]\n",
    "c = [5,6,7]\n",
    "\n",
    "print(f'a) {tuple(intersecao(complemento(espaco_amostral, a), b))}\\n')\n",
    "\n",
    "\n",
    "print(f'b) {tuple(uniao(complemento(espaco_amostral, a), b))}\\n')\n",
    "\n",
    "b_uniao_c = uniao(b,c)\n",
    "complemento_b_uniao_c = complemento(espaco_amostral, b_uniao_c)\n",
    "a_inter_complemento = intersecao(a,complemento_b_uniao_c)\n",
    "complemento_total = complemento(espaco_amostral, a_inter_complemento)\n",
    "\n",
    "print(f'c) {tuple(complemento_total)}\\n')\n",
    "\n",
    "complemento_a = complemento(espaco_amostral, a)\n",
    "complemento_b = complemento(espaco_amostral, b)\n",
    "inter_complemento_a_c = intersecao(complemento_a, complemento_b)\n",
    "complemento_total = complemento(espaco_amostral, inter_complemento_a_c)\n",
    "\n",
    "print(f'd) {tuple(complemento_total)}\\n')\n",
    "\n",
    "b_uniao_c = uniao(b,c)\n",
    "a_inter_b_uniao_c = intersecao(a, b_uniao_c)\n",
    "complemento_total = complemento(espaco_amostral, a_inter_b_uniao_c)\n",
    "\n",
    "print(f'e) {tuple(complemento_total)}')\n"
   ]
  },
  {
   "cell_type": "markdown",
   "id": "cbdba74f",
   "metadata": {},
   "source": [
    "# 5ª questão"
   ]
  },
  {
   "cell_type": "code",
   "execution_count": 6,
   "id": "2e69bdd9",
   "metadata": {},
   "outputs": [
    {
     "name": "stdout",
     "output_type": "stream",
     "text": [
      "letra d) 1 / 84\n"
     ]
    }
   ],
   "source": [
    "# primeiro evento 1 / 3 \n",
    "# segundo evento 1 / 28\n",
    "# resposta 1/3 * 1/28\n",
    "\n",
    "print(f'letra d) 1 / {3*28}')"
   ]
  },
  {
   "cell_type": "markdown",
   "id": "429dbeb1",
   "metadata": {},
   "source": [
    "# 6ª questão"
   ]
  },
  {
   "cell_type": "code",
   "execution_count": 7,
   "id": "06337717",
   "metadata": {},
   "outputs": [
    {
     "name": "stdout",
     "output_type": "stream",
     "text": [
      "letra e) 0,64\n"
     ]
    }
   ],
   "source": [
    "# modo mais rápido de fazer essa questão é vendo o unico caso que a pergunta seria respondida por nenhum\n",
    "# probabilidade de nenhum dos 2 responder a pergunta é de: 60% . 60% = 36%\n",
    "# logo a probabilidade de ser respondida é 100% - 64%\n",
    "print('letra e) 0,64')"
   ]
  },
  {
   "cell_type": "markdown",
   "id": "d15dd37a",
   "metadata": {},
   "source": [
    "# 7ª questão"
   ]
  },
  {
   "cell_type": "code",
   "execution_count": 8,
   "id": "f6197d4c",
   "metadata": {},
   "outputs": [
    {
     "name": "stdout",
     "output_type": "stream",
     "text": [
      "letra c) 0.14\n"
     ]
    }
   ],
   "source": [
    "# primeiro evento 20 / 100\n",
    "# segundo evento 70 / 100\n",
    "probabilidade_total = (20/100) * (70/100)\n",
    "print(f'letra c) {probabilidade_total:.2f}')"
   ]
  },
  {
   "cell_type": "markdown",
   "id": "9ef8ecbb",
   "metadata": {},
   "source": [
    "# 8ª questão"
   ]
  },
  {
   "cell_type": "code",
   "execution_count": 9,
   "id": "5feb7fd3",
   "metadata": {},
   "outputs": [
    {
     "name": "stdout",
     "output_type": "stream",
     "text": [
      "Resposta: 0.4 ou 40%\n"
     ]
    }
   ],
   "source": [
    "intersecao_a_b = 0.3\n",
    "prob_a = 0.5 - intersecao_a_b\n",
    "prob_b = 0.4 - intersecao_a_b\n",
    "nao_gostar = 1 - (prob_a + prob_b + intersecao_a_b)\n",
    "print(f'Resposta: {nao_gostar:.1f} ou {nao_gostar * 100:.0f}%')\n"
   ]
  },
  {
   "cell_type": "markdown",
   "id": "18d01849",
   "metadata": {},
   "source": [
    "# 9ª questão (assunto não dado)"
   ]
  },
  {
   "cell_type": "code",
   "execution_count": 10,
   "id": "742ffab3",
   "metadata": {},
   "outputs": [
    {
     "name": "stdout",
     "output_type": "stream",
     "text": [
      "a) 0.6703200460356393\n",
      "b) 0.14813475220501943\n"
     ]
    }
   ],
   "source": [
    "e = math.e\n",
    "infinito = math.inf\n",
    "# letra a\n",
    "esperanca = 5\n",
    "lambida = 1 / esperanca # 1 / 5\n",
    "# probabilidade a) é a integral de f(x) = λ * e^(-λ*x)  2 <= x (CALCULADO NO PAPEL ENVIADO NO CLASSROOM)\n",
    "prob_a = -1 * ((e**-infinito) - (e**-0.4))\n",
    "print(f'a) {prob_a}')\n",
    "\n",
    "#probabilidade b) é a integral de f(x) = λ * e^(-λ*x)  4 <= x <= 6 (CALCULADO NO PAPEL ENVIADO NO CLASSROOM)\n",
    "prob_b = -1 * ((e**-1.2) - (e**-0.8))\n",
    "print(f'b) {prob_b}')\n"
   ]
  },
  {
   "cell_type": "markdown",
   "id": "76874e8a",
   "metadata": {},
   "source": [
    "# 10ª questão"
   ]
  },
  {
   "cell_type": "code",
   "execution_count": 11,
   "id": "3782f9fa",
   "metadata": {},
   "outputs": [
    {
     "name": "stdout",
     "output_type": "stream",
     "text": [
      "Resposta: 89.5%\n"
     ]
    }
   ],
   "source": [
    "# mesma logica da questão 6\n",
    "# a probabilidade de nenhum resolver e assim saber a probabilidade de ser resolvida\n",
    "prob_rodrigo = 15/100\n",
    "prob_jamilson = 70/100\n",
    "prob_resolver = 1 - (prob_jamilson * prob_rodrigo)\n",
    "print(f'Resposta: {prob_resolver*100}%')"
   ]
  },
  {
   "cell_type": "markdown",
   "id": "c0b35734",
   "metadata": {},
   "source": [
    "# 11ª questão "
   ]
  },
  {
   "cell_type": "code",
   "execution_count": 12,
   "id": "62fa00fb",
   "metadata": {},
   "outputs": [
    {
     "name": "stdout",
     "output_type": "stream",
     "text": [
      "a) (['s1', 's1'], ['s1', 's2'], ['s2', 's1'], ['s2', 's2'])\n",
      "\n",
      "b) P(A): (['s1', 's1'], ['s1', 's2'], ['s2', 's1'])\n",
      "   P(B): (['s2', 's1'], ['s2', 's2'])\n"
     ]
    }
   ],
   "source": [
    "espaco_amostral = [['s1', 's1'], ['s1', 's2'], ['s2', 's1'], ['s2', 's2']]\n",
    "p_a = [['s1', 's1'], ['s1', 's2'], ['s2', 's1']]\n",
    "p_b = [['s2', 's1'], ['s2', 's2']]\n",
    "\n",
    "print(f'a) {tuple(espaco_amostral)}\\n')\n",
    "print(f'b) P(A): {tuple(p_a)}\\n   P(B): {tuple(p_b)}')\n"
   ]
  },
  {
   "cell_type": "markdown",
   "id": "b500d09e",
   "metadata": {},
   "source": [
    "# 12ª questão"
   ]
  },
  {
   "cell_type": "code",
   "execution_count": 13,
   "id": "97ba5d27",
   "metadata": {},
   "outputs": [
    {
     "name": "stdout",
     "output_type": "stream",
     "text": [
      "Resposta: 20\n"
     ]
    }
   ],
   "source": [
    "# cpmbinação (6,3)\n",
    "resposta = math.comb(6,3)\n",
    "print(f'Resposta: {resposta}')"
   ]
  },
  {
   "cell_type": "markdown",
   "id": "16603655",
   "metadata": {},
   "source": [
    "# 13ª questão"
   ]
  },
  {
   "cell_type": "code",
   "execution_count": 14,
   "id": "92473cb5",
   "metadata": {},
   "outputs": [
    {
     "name": "stdout",
     "output_type": "stream",
     "text": [
      "Resposta: 511\n"
     ]
    }
   ],
   "source": [
    "um = math.comb(9,1)\n",
    "dois = math.comb(9,2)\n",
    "tres = math.comb(9,3)\n",
    "quatro = math.comb(9,4)\n",
    "cinco = math.comb(9,5)\n",
    "seis = math.comb(9,6)\n",
    "sete = math.comb(9,7)\n",
    "oito = math.comb(9,8)\n",
    "nove = math.comb(9,9)\n",
    "\n",
    "print(f'Resposta: {um + dois + tres + quatro + cinco + seis + sete + oito + nove}')\n"
   ]
  },
  {
   "cell_type": "markdown",
   "id": "b5f07db8",
   "metadata": {},
   "source": [
    "# 14ª questão "
   ]
  },
  {
   "cell_type": "code",
   "execution_count": 15,
   "id": "47734ca1",
   "metadata": {},
   "outputs": [
    {
     "name": "stdout",
     "output_type": "stream",
     "text": [
      "Resposta: 3628800\n"
     ]
    }
   ],
   "source": [
    "print(f'Resposta: {math.perm(10)}')"
   ]
  }
 ],
 "metadata": {
  "kernelspec": {
   "display_name": "Python 3 (ipykernel)",
   "language": "python",
   "name": "python3"
  },
  "language_info": {
   "codemirror_mode": {
    "name": "ipython",
    "version": 3
   },
   "file_extension": ".py",
   "mimetype": "text/x-python",
   "name": "python",
   "nbconvert_exporter": "python",
   "pygments_lexer": "ipython3",
   "version": "3.8.10"
  }
 },
 "nbformat": 4,
 "nbformat_minor": 5
}
