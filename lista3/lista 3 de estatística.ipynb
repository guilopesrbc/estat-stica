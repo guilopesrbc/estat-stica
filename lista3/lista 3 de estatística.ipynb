{
 "cells": [
  {
   "cell_type": "markdown",
   "id": "6850800f",
   "metadata": {},
   "source": [
    "# Lista 3 de estatística"
   ]
  },
  {
   "cell_type": "markdown",
   "id": "571f5f47",
   "metadata": {},
   "source": [
    "# 1ª questão"
   ]
  },
  {
   "cell_type": "markdown",
   "id": "76c09bb7",
   "metadata": {},
   "source": [
    "a) Representa um valor, obtido ao acaso, que é associado a um resultado de um experimento de probabilidade.Pode ser de dois tipos discretos ou contínuos. Discretos: variaveis que assumem um número inteiro ou contável, exemplo: o número de clientes por dia em um restaurante: 20, 30 ,40... Contínuo: variaveis que assumem um intervalo da reta dos números reais, exemplo: o tempo que um carro demora para ir de 0 a 100 km/h: dependendo do carro(carro esportivo) podemos dizer que pode estar num intervalo entre [0,100] segundos.\n",
    "\n",
    "b) Distribuição discreta de probabilidade é a listagem de cada valor de uma variável aleatória juntamente com a sua probabilidade determinada. 1) a probabilidade de cada variável é um valor entre 0 e 1. 2) a soma das probabilidades deve ser 1.\n",
    "\n",
    "c) Não, ele vai dar o valor esperado das variaveis aleatórias, o valor pode ser maior que a soma de todas as probabilidades. "
   ]
  },
  {
   "cell_type": "markdown",
   "id": "1e055117",
   "metadata": {},
   "source": [
    "# 2ª questão"
   ]
  },
  {
   "cell_type": "markdown",
   "id": "b65986b5",
   "metadata": {},
   "source": [
    "a) discreta: o número da lista limitada em 500 empresas, são posições, números inteiros (contáveis). Além de que não tem como existir meia empresa (0,5 empresa).\n",
    "\n",
    "b) contínuo: o volume de gasolina é um intervalo de valores, exemplo: pode ter sido consumido frações de galões, como 1/4, 1/8... O nível exato de litros de gasolina no veículo pode ser visto de forma precisa, não é algo certo, finito e inteiro."
   ]
  },
  {
   "cell_type": "markdown",
   "id": "7cd6de3f",
   "metadata": {},
   "source": [
    "# 3ª questão"
   ]
  },
  {
   "cell_type": "code",
   "execution_count": 1,
   "id": "b0db3bf5",
   "metadata": {},
   "outputs": [
    {
     "name": "stdout",
     "output_type": "stream",
     "text": [
      "Resultado: 0.243\n"
     ]
    }
   ],
   "source": [
    "prob_sucesso = 90/100\n",
    "prob_fracasso = 10/100\n",
    "# fazendo a distribuição de probabilidade pode ser sucesso no primeiro e no segundo paciente; ou no primeiro e terceiro; ou no segundo e terceiro paciente.\n",
    "# então são três probabilidades, como a probabilidade para cada caso terá msm valor, multipliquei por 3.\n",
    "resultado = (prob_sucesso * prob_sucesso * prob_fracasso) * 3\n",
    "print(f'Resultado: {resultado:.3f}')"
   ]
  },
  {
   "cell_type": "markdown",
   "id": "97eeb030",
   "metadata": {},
   "source": [
    "# 4ª questão "
   ]
  },
  {
   "cell_type": "code",
   "execution_count": 2,
   "id": "8e254379",
   "metadata": {},
   "outputs": [
    {
     "name": "stdout",
     "output_type": "stream",
     "text": [
      "Resultado: 0.844\n"
     ]
    }
   ],
   "source": [
    "# mesmo esquema da questão anterior, porém, adiciona a probabilidade dos 3 competidores serem baianos.\n",
    "prob_baiano = 3/4\n",
    "prob_pernambucano = 1/4\n",
    "dois_comp = (prob_baiano * prob_baiano * prob_pernambucano) * 3\n",
    "tres_comp = prob_baiano**3\n",
    "resultado = dois_comp + tres_comp\n",
    "print(f'Resultado: {resultado:.3f}')"
   ]
  },
  {
   "cell_type": "markdown",
   "id": "aa5bada3",
   "metadata": {},
   "source": [
    "# 5ª questão"
   ]
  },
  {
   "cell_type": "code",
   "execution_count": 36,
   "id": "1cde7bb9",
   "metadata": {},
   "outputs": [
    {
     "name": "stdout",
     "output_type": "stream",
     "text": [
      "Resultado: 0.168\n"
     ]
    }
   ],
   "source": [
    "import math # biblioteca para usar o número de euler, para a distribuição de poisson P(x) = (λ^x * e^-λ)/x!\n",
    "poisson = (((3**4)*(math.e**(-3))) / math.factorial(4))\n",
    "print(f'Resultado: {poisson:.3f}')\n",
    "\n",
    "           "
   ]
  },
  {
   "cell_type": "markdown",
   "id": "307ebbec",
   "metadata": {},
   "source": [
    "# 6ª questão"
   ]
  },
  {
   "cell_type": "code",
   "execution_count": 26,
   "id": "15c4bc9d",
   "metadata": {},
   "outputs": [
    {
     "name": "stdout",
     "output_type": "stream",
     "text": [
      "a) 0.175\n",
      "b) 0.440\n",
      "c) 0.007\n"
     ]
    }
   ],
   "source": [
    "import math # mesmo esquema da ultima questão\n",
    "\n",
    "# a)\n",
    "letra_a = (((5**5)*(math.e**(-5))) / math.factorial(5))\n",
    "print(f'a) {letra_a:.3f}')\n",
    "\n",
    "# b) ; para essa será a soma de ter 0 erros até 4 erros\n",
    "zero = (((5**0)*(math.e**(-5))) / math.factorial(0))\n",
    "um = (((5**1)*(math.e**(-5))) / math.factorial(1))\n",
    "dois = (((5**2)*(math.e**(-5))) / math.factorial(2))\n",
    "tres = (((5**3)*(math.e**(-5))) / math.factorial(3))\n",
    "quatro = (((5**4)*(math.e**(-5))) / math.factorial(4))\n",
    "letra_b = zero + um + dois + tres + quatro\n",
    "print(f'b) {letra_b:.3f}')\n",
    "\n",
    "# c)\n",
    "letra_c = zero\n",
    "print(f'c) {letra_c:.3f}')\n"
   ]
  },
  {
   "cell_type": "markdown",
   "id": "710e3513",
   "metadata": {},
   "source": [
    "# 7ª questão "
   ]
  },
  {
   "cell_type": "code",
   "execution_count": 2,
   "id": "0ab637be",
   "metadata": {},
   "outputs": [
    {
     "name": "stdout",
     "output_type": "stream",
     "text": [
      "a) 0.667\n",
      "b) 0.222\n",
      "c) 0.963\n"
     ]
    }
   ],
   "source": [
    "prob_fazer_gol = 50/75\n",
    "# usando distribuição geometrica\n",
    "# a)\n",
    "letra_a = prob_fazer_gol\n",
    "print(f'a) {prob_fazer_gol:.3f}')\n",
    "\n",
    "# b)\n",
    "letra_b = (1- prob_fazer_gol) * prob_fazer_gol\n",
    "print(f'b) {letra_b:.3f}')\n",
    "\n",
    "#c); a soma de fazer no primeiro, ou fazer no segundo, ou no terceiro\n",
    "terceiro = (1- prob_fazer_gol) * (1- prob_fazer_gol) * prob_fazer_gol\n",
    "letra_c = letra_a + letra_b + terceiro\n",
    "print(f'c) {letra_c:.3f}')"
   ]
  },
  {
   "cell_type": "markdown",
   "id": "20e8a1aa",
   "metadata": {},
   "source": [
    "# 8ª questão"
   ]
  },
  {
   "cell_type": "code",
   "execution_count": 33,
   "id": "1d3297b7",
   "metadata": {},
   "outputs": [
    {
     "name": "stdout",
     "output_type": "stream",
     "text": [
      "a) 0.3125\n",
      "b) 0.6875\n"
     ]
    }
   ],
   "source": [
    "# a)\n",
    "duas_caju = 3/4 * 2/3 * 1/2\n",
    "duas_caju = duas_caju**2\n",
    "tres_caju = 3/4 * 2/3 * 1/2\n",
    "print(f'a) {duas_caju + tres_caju}')\n",
    "# b) a probabilidade de tirar 3 do pará ou 2 do pará e 1 de cajú é a complementar de tirar 2 ou mais castanhas de cajú\n",
    "print(f'b) {1 - (duas_caju + tres_caju)}')"
   ]
  },
  {
   "cell_type": "markdown",
   "id": "beffbc0e",
   "metadata": {},
   "source": [
    "# EXTRA"
   ]
  },
  {
   "cell_type": "code",
   "execution_count": 35,
   "id": "ca6ac7a5",
   "metadata": {},
   "outputs": [
    {
     "name": "stdout",
     "output_type": "stream",
     "text": [
      "a) Distribuição geométrica\n",
      "b) 0.64\n",
      "c) 0.5, porque ou terminará em um número ímpar da sequência ou par\n"
     ]
    }
   ],
   "source": [
    "ser_esmagado = 0.2\n",
    "n_ser_esmagado = 0.8\n",
    "# a)\n",
    "print(f'a) Distribuição geométrica')\n",
    "\n",
    "# b) a complementar da sequência de até dois tijolos, que será a probabilidade de ter 3 ou mais \n",
    "dois_tijolos = 0.8 * 0.2\n",
    "um_tijolo = 0.2\n",
    "letra_a = 1 - (dois_tijolos + um_tijolo)\n",
    "print(f'b) {letra_a:.2f}')\n",
    "# c) \n",
    "print(f'c) 0.5, porque ou terminará em um número ímpar da sequência ou par')"
   ]
  }
 ],
 "metadata": {
  "kernelspec": {
   "display_name": "Python 3 (ipykernel)",
   "language": "python",
   "name": "python3"
  },
  "language_info": {
   "codemirror_mode": {
    "name": "ipython",
    "version": 3
   },
   "file_extension": ".py",
   "mimetype": "text/x-python",
   "name": "python",
   "nbconvert_exporter": "python",
   "pygments_lexer": "ipython3",
   "version": "3.8.10"
  }
 },
 "nbformat": 4,
 "nbformat_minor": 5
}
