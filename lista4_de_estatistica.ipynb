{
  "nbformat": 4,
  "nbformat_minor": 0,
  "metadata": {
    "colab": {
      "provenance": []
    },
    "kernelspec": {
      "name": "python3",
      "display_name": "Python 3"
    },
    "language_info": {
      "name": "python"
    }
  },
  "cells": [
    {
      "cell_type": "code",
      "execution_count": null,
      "metadata": {
        "id": "z8rCtTagLJQ4"
      },
      "outputs": [],
      "source": [
        "import matplotlib.pyplot as plt\n",
        "import scipy.stats as stats\n",
        "import seaborn as sns\n",
        "import math"
      ]
    },
    {
      "cell_type": "markdown",
      "source": [
        "# QUESTÃO 1"
      ],
      "metadata": {
        "id": "OMzAmFlT3kpo"
      }
    },
    {
      "cell_type": "code",
      "source": [
        "# z = (x - μ) / σ\n",
        "x1 = 20000\n",
        "x2 = 30000\n",
        "μ = 27989\n",
        "σ = 3250\n",
        "print(f'z1 = valor z com média 20000\\nz2 = valor z com média 30000\\n')\n",
        "# A)\n",
        "z1 = (x1 - μ) / σ\n",
        "z2 = (x2 - μ) / σ\n",
        "prob = 0.7324 - 0.0069\n",
        "print(f'a) z1 = {z1:.2f}, z2 = {z2:.2f}, então a probabilidade é o valor {z1:.3f} < Z < {z2:.3f}, olhando na tabela de distribuição a probabilidade é {prob}')\n",
        "# B)\n",
        "prob = 0.0069\n",
        "print(f'\\nb) utilizando z1 = {z1:.2f} novamente e encontraremos o valor z pela tabela de distribuição normal acumulada a esquerda que é igual a {prob}')"
      ],
      "metadata": {
        "colab": {
          "base_uri": "https://localhost:8080/"
        },
        "id": "enineX9h3kPQ",
        "outputId": "fe857282-d904-4f4a-a097-883e8872770f"
      },
      "execution_count": null,
      "outputs": [
        {
          "output_type": "stream",
          "name": "stdout",
          "text": [
            "z1 = valor z com média 20000\n",
            "z2 = valor z com média 30000\n",
            "\n",
            "a) z1 = -2.46, z2 = 0.62, então a probabilidade é o valor -2.458 < Z < 0.619, olhando na tabela de distribuição a probabilidade é 0.7255\n",
            "\n",
            "b) utilizando z1 = -2.46 novamente e encontraremos o valor z pela tabela de distribuição normal acumulada a esquerda que é igual a 0.0069\n"
          ]
        }
      ]
    },
    {
      "cell_type": "markdown",
      "source": [
        "# QUESTÃO 2"
      ],
      "metadata": {
        "id": "l2RPEyR33ibG"
      }
    },
    {
      "cell_type": "code",
      "source": [
        "# usando distribuição de poisson\n",
        "λ = 93/100\n",
        "p = 3 \n",
        "prob = (λ**p)*(math.e**-λ)/ math.factorial(p)\n",
        "print(f'Resposta: {prob:.3f}')"
      ],
      "metadata": {
        "colab": {
          "base_uri": "https://localhost:8080/"
        },
        "id": "lvx6FRFT3h8t",
        "outputId": "f0dae2ec-b082-460c-fcaa-d727980c8256"
      },
      "execution_count": null,
      "outputs": [
        {
          "output_type": "stream",
          "name": "stdout",
          "text": [
            "Resposta: 0.053\n"
          ]
        }
      ]
    },
    {
      "cell_type": "markdown",
      "source": [
        "# QUESTÃO 3"
      ],
      "metadata": {
        "id": "EtSD85_mPqSA"
      }
    },
    {
      "cell_type": "code",
      "source": [
        "# usando distribuição de poisson\n",
        "λ = 2\n",
        "p = 3\n",
        "a = (λ**p)*(math.e**(-λ))/ math.factorial(p)\n",
        "λ = 0.3\n",
        "p = 1\n",
        "b = (λ**p)*(math.e**(-λ))/ math.factorial(p)\n",
        "print(f'a) {a:.3f}\\nb) {b:.3f}')"
      ],
      "metadata": {
        "colab": {
          "base_uri": "https://localhost:8080/"
        },
        "id": "5rFlSDDvL-1r",
        "outputId": "01d40840-9c38-49a5-b8c8-1115e76149ee"
      },
      "execution_count": null,
      "outputs": [
        {
          "output_type": "stream",
          "name": "stdout",
          "text": [
            "a) 0.180\n",
            "b) 0.222\n"
          ]
        }
      ]
    },
    {
      "cell_type": "markdown",
      "source": [
        "# QUESTÃO 4"
      ],
      "metadata": {
        "id": "beE3KOeuTpGx"
      }
    },
    {
      "cell_type": "code",
      "source": [
        "import random \n",
        "def toss_coin():\n",
        "  r = random.random()\n",
        "  if r < 0.5:\n",
        "    result = \"H\"\n",
        "  else:\n",
        "    result = \"T\"\n",
        "  return 1 if result == \"H\" else 0\n",
        "\n",
        "def toss_ten_coin():\n",
        "  result = 0\n",
        "  \n",
        "  for i in range(10):\n",
        "    result += toss_coin()\n",
        "  return result\n",
        "\n",
        "result_list = []\n",
        "\n",
        "for i in range(10):\n",
        "  result_list.append(toss_ten_coin())\n",
        "sns.histplot(result_list, bins=10)\n",
        "plt.title(\"histogram of result_list\")\n",
        "plt.show()"
      ],
      "metadata": {
        "colab": {
          "base_uri": "https://localhost:8080/",
          "height": 452
        },
        "id": "BkjhNd6FMXwl",
        "outputId": "c3fa88f7-dd89-4a04-8a5c-5d130064d11f"
      },
      "execution_count": null,
      "outputs": [
        {
          "output_type": "display_data",
          "data": {
            "text/plain": [
              "<Figure size 640x480 with 1 Axes>"
            ],
            "image/png": "[encoded data removed]"
          },
          "metadata": {}
        }
      ]
    },
    {
      "cell_type": "markdown",
      "source": [
        "# QUESTÃO 5"
      ],
      "metadata": {
        "id": "C9M3pTs_3d__"
      }
    },
    {
      "cell_type": "code",
      "source": [
        "print('como a média é zero, verificando cada valor na tabela de distribuição normal:')\n",
        "print('\\na) 0.0668\\n')\n",
        "print('b) 0.897\\n')\n",
        "print('c) 0.013\\n')\n",
        "print('d) 0.959\\n')\n",
        "print(f'e) {0.3413  - 0.1915:.3f}')"
      ],
      "metadata": {
        "colab": {
          "base_uri": "https://localhost:8080/"
        },
        "id": "XYzb0An8QxiH",
        "outputId": "5c83acbe-2f33-48b6-8763-fae6ca5466e1"
      },
      "execution_count": null,
      "outputs": [
        {
          "output_type": "stream",
          "name": "stdout",
          "text": [
            "como a média é zero, verificando cada valor na tabela de distribuição normal:\n",
            "\n",
            "a) 0.0668\n",
            "\n",
            "b) 0.897\n",
            "\n",
            "c) 0.013\n",
            "\n",
            "d) 0.959\n",
            "\n",
            "e) 0.150\n"
          ]
        }
      ]
    }
  ]
}