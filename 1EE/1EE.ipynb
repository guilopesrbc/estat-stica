{
 "cells": [
  {
   "cell_type": "markdown",
   "metadata": {},
   "source": [
    "# 1EE\n"
   ]
  },
  {
   "cell_type": "code",
   "execution_count": 1,
   "metadata": {},
   "outputs": [],
   "source": [
    "# importando as bibliotecas para facilitar o cálculo e organização dos dados e respostas, além da plotagem de gráficos necessários.\n",
    "import statistics # biblioteca usada para auxiliar os calcúlos das funções\n",
    "import pandas as pd # biblioteca para a plotagem do histograma\n",
    "import matplotlib.pyplot as plt # biblioteca para plotagem do histograma\n",
    "\n"
   ]
  },
  {
   "cell_type": "markdown",
   "metadata": {},
   "source": [
    "# 1ª questão"
   ]
  },
  {
   "cell_type": "markdown",
   "metadata": {},
   "source": [
    "Os dados podem ser classicados em duas maneiras: Os Categóricos (qualitativos) – são dados não numéricos, podem ser nominais (ex: estado civil, gênero, etnia...) ou ordinais (ex: índice de felicidade, nível de escolaridade, posição em uma tabela (1ª, 2ª...)). Os Numéricos (quantitativos) - são dados numéricos, podem ser discretos (ex: valores inteiros) e contínuos (ex: valores Reais em que podem possuir infinitos valores num intervalo entre dois números).\n"
   ]
  },
  {
   "cell_type": "markdown",
   "metadata": {},
   "source": [
    "# 2ª questão"
   ]
  },
  {
   "cell_type": "markdown",
   "metadata": {
    "pycharm": {
     "is_executing": true
    }
   },
   "source": [
    "a) A população de interesse é \"os recém-nascidos de Pernambuco\" b) o parâmetro utilizado foi: \"nos ultimos 5 anos\". c) Com base nessa amostra não é possível concluir a média na America do Sul, pois os dados coletados e a população de interesse é exclusivamente do estado de pernambuco."
   ]
  },
  {
   "cell_type": "markdown",
   "metadata": {
    "pycharm": {
     "is_executing": true
    }
   },
   "source": [
    "# 3ª questão"
   ]
  },
  {
   "cell_type": "markdown",
   "metadata": {
    "pycharm": {
     "is_executing": true
    }
   },
   "source": [
    "<img src=\"tabela1.jpeg\">"
   ]
  },
  {
   "cell_type": "code",
   "execution_count": 2,
   "metadata": {},
   "outputs": [
    {
     "name": "stdout",
     "output_type": "stream",
     "text": [
      "A média harmônica: 300.32\n"
     ]
    }
   ],
   "source": [
    "# separando os valores das taxas(classes) e multiplicando-as pelas frequências\n",
    "\n",
    "data = [310, 290, 340, 270]\n",
    "media_harmonica = statistics.harmonic_mean(data)\n",
    "\n",
    "# utilização da função para o calculo da média harmônica\n",
    "print('A média harmônica: ' \"{:.2f}\".format(media_harmonica))"
   ]
  },
  {
   "cell_type": "markdown",
   "metadata": {},
   "source": [
    "# 4ª questão \n",
    "<img src=\"tabela2.jpeg\">"
   ]
  },
  {
   "cell_type": "code",
   "execution_count": 3,
   "metadata": {},
   "outputs": [
    {
     "name": "stdout",
     "output_type": "stream",
     "text": [
      "a) média: 208.64 desvio padrão: 630.96 variância: 398112.89 coeficiente de assimetria: -1.68 curtose: 0.89\n",
      "\n",
      "b) mediana: 105.45 primeiro quartil: 74.52 terceiro quartil: 174.45. Os quartis são valores que dividem o conjunto em quatro partes, sendo o Q1 separa os 25% inferiores dos 75% dos superiores; o Q2 é a media e o Q3 separa os 75% inferiores dos 25% dos superiores.\n"
     ]
    },
    {
     "data": {
      "image/png": "[encoded data removed]",
      "text/plain": [
       "<Figure size 640x480 with 1 Axes>"
      ]
     },
     "metadata": {},
     "output_type": "display_data"
    },
    {
     "name": "stdout",
     "output_type": "stream",
     "text": [
      "c) O histograma ficou bastante heterogêneo devido a grande diferença entre um dado \"fora da curva\" e os outros números, concentrando as caixas nas extremidades do gráfico. Dessa forma, a frêquencia  no intervalo 0-1000 ficou quase que total, somente um único tempo registrado no intervalo 5000+.\n"
     ]
    }
   ],
   "source": [
    "data = [67.45, 107.67, 119.53, 46.23, 288.88, 340.51, 29.21, 127.07, 73.39, 109.56, 69.52, 229.54, 261.67, 174.45, 79.90, 5398, 108.28, 70.96, 155.37, 155.74, 256.50, 59.66, 65.94, 51.48, 74.52, 236.84, 160.52, 3.99, 96.40, 72.54, 96.98, 46.97, 158.52, 257.21, 5.52, 117.92, 105.96, 63.13, 86.43, 83.32, 154.74, 33.61, 132.83, 86.14, 135.23, 116.40, 282.67, 213.38, 209.17, 85.73, 84.93, 79.50, 94.37, 101.47, 92.90, 128.06, 88.94, 104.94, 76.53, 81.62, 312.62, 108.04, 263.58, 212.06, 360.13, 31.14, 25.25, 377.00, 97.66, 321.05]\n",
    "\n",
    "# tamanho dos dados = 70 dados\n",
    "\n",
    "# O algoritmo bubblesort será usado para organizar os dados em ROL\n",
    "def bubblesort(lista):\n",
    "    for i in range(len(lista)):\n",
    "        for j in range(len(lista) - 1):\n",
    "            if lista[j] > lista[j + 1]:\n",
    "                aux = lista[j]\n",
    "                lista[j] = lista[j + 1]\n",
    "                lista[j + 1] = aux\n",
    "    return lista\n",
    "dados_rol = bubblesort(data)\n",
    "\n",
    "# A mediana = 70/2 = (35ª+ 36ª)/2 dado em Rol\n",
    "mediana = statistics.median(dados_rol)\n",
    "\n",
    "# para calculo dos quartis dividimos os dados, a partir da mediana em quatro partes.\n",
    "\n",
    "# o primeiro quartil será a mediana entre o 1ª ao 34ª dado que está entre as 2 primeiras partes dos dados.\n",
    "quartil1 = dados_rol[0:35]\n",
    "mediana_quartil1 = statistics.median(quartil1)\n",
    "\n",
    "# o terceiro quartil será a mediana entre o 37ª ao 70ª dado que está entre as 2 ultimas partes dos dados.\n",
    "quartil3 = dados_rol[35:]\n",
    "mediana_quartil3 = statistics.median(quartil3)\n",
    "\n",
    "# calculo da media\n",
    "media = statistics.mean(data)\n",
    "\n",
    "#caluclo do desvio padrao\n",
    "desvio_padrao = statistics.pstdev(data)\n",
    "\n",
    "# calculo da variancia\n",
    "variancia = statistics.pvariance(data)\n",
    "\n",
    "# calculo do coeficiente de assimetria\n",
    "# AS = (Q1 + Q3 - 2(media) ) / (Q3 - Q1)\n",
    "coef_assimetria = (mediana_quartil1 + mediana_quartil3 - (2*media)) / (mediana_quartil3 - mediana_quartil1)\n",
    "\n",
    "# Foi considerado o coef. percentílico de curtose (conforme dado em sala de aula)\n",
    "# C < 0,263 -> Leptocúrtica (mais afilada\n",
    "# C = 0,263 -> Mesocúrtica\n",
    "# C > 0,263 -> platicúrtica (mais achatada)\n",
    "\n",
    "# curtose = (q3 - q1) / 2(P90 - P10)\n",
    "# percentil = (i * N)/ 100\n",
    "\n",
    "p90 = (90 * 70) / 100\n",
    "p10 = (10 * 70) / 100\n",
    "curtose = (mediana_quartil3 - mediana_quartil1) /(2*(p90 - p10))\n",
    "\n",
    "\n",
    "print(f'a) média: {media:.2f} desvio padrão: {desvio_padrao:.2f} variância: {variancia:.2f} coeficiente de assimetria: {coef_assimetria:.2f} curtose: {curtose:.2f}')\n",
    "\n",
    "print(f'\\nb) mediana: {mediana:.2f} primeiro quartil: {mediana_quartil1:.2f} terceiro quartil: {mediana_quartil3:.2f}. Os quartis são valores que dividem o conjunto em quatro partes, sendo o Q1 separa os 25% inferiores dos 75% dos superiores; o Q2 é a media e o Q3 separa os 75% inferiores dos 25% dos superiores.')\n",
    "\n",
    "# plotagem do histograma\n",
    "\n",
    "plt.xlim([min(data)-5, max(data)+5])\n",
    "\n",
    "plt.hist(data, alpha=0.5)\n",
    "plt.title('Startup time(s)')\n",
    "plt.xlabel('Segundos')\n",
    "plt.ylabel('Frequência absoluta')\n",
    "\n",
    "plt.show()\n",
    "\n",
    "print('c) O histograma ficou bastante heterogêneo devido a grande diferença entre um dado \"fora da curva\" e os outros números, concentrando as caixas nas extremidades do gráfico. Dessa forma, a frêquencia  no intervalo 0-1000 ficou quase que total, somente um único tempo registrado no intervalo 5000+.')"
   ]
  },
  {
   "cell_type": "markdown",
   "metadata": {},
   "source": [
    "# 5ª questão\n",
    "<img src=\"quartis.png\">"
   ]
  },
  {
   "cell_type": "markdown",
   "metadata": {},
   "source": [
    "É possível observar que se trata de um gráfico separatrizes, a separação dos valores em ROL em cada quartil, sendo o primeiro quartil o valor minímo, o quarto valor maximo, segundo quartil a mediana e os demais quartis dividem a região interquartil (25% - 75% dos dados). No mês de janeiro os valores minímos e maximos encontrados representam tanto o Q0, como o Q4, 90 mil e 160 mil respectivamente, a região interquartil com os valores entre o 120 mil e 140 mil, sendo 130 mil a mediana e não é visível nenhum outlier \"numero fora da curva\" nesse mês. No mês de fevereiro, observa-se uma queda no número de streams, sendo os min. e max : 70 mil e 130 mil respectivamente, com os valores interquartil entre 90 mil e 110 mil, 100 mil streams mediana, também não se observa outlier nesse mês. No mês de março, o número de streams sobe novamente, um pouco abaixo do mês de janeiro, os valores min. e max. : 85 mil e 155 mil, região interquartil: entre 115 mil e 135 mil, com 125 mil streams de mediana, também não possui outliers. Com isso, é possível analisar a variação no número de streams no primeiro semestre do ano, uma queda significativa no mês de fevereiro, uma hipótese pode ser devido a ser o mês em que há a volta da maioria dos trabalhos e escolas, e a volta quase que total no final do semestre."
   ]
  },
  {
   "cell_type": "markdown",
   "metadata": {},
   "source": [
    "# 6ª questão\n",
    "<img src=\"histograma2.png\">"
   ]
  },
  {
   "cell_type": "code",
   "execution_count": 4,
   "metadata": {},
   "outputs": [
    {
     "name": "stdout",
     "output_type": "stream",
     "text": [
      "Media: 0.82, mediana: 0.00\n"
     ]
    }
   ],
   "source": [
    "data = [0,0,0,0,0,0,0,0,0,0,0,0,0,0,0,0,0,0,0,0,9,9]\n",
    "media = statistics.mean(data)\n",
    "mediana = statistics.median(data) # mediana = 22 / 2 = 11ª + 12ª / 2 \n",
    "print(f'Media: {media:.2f}, mediana: {mediana:.2f}')"
   ]
  },
  {
   "cell_type": "markdown",
   "metadata": {},
   "source": [
    "# 7ª questão\n",
    "<img src='questao7.png'>"
   ]
  },
  {
   "cell_type": "code",
   "execution_count": 5,
   "metadata": {},
   "outputs": [
    {
     "name": "stdout",
     "output_type": "stream",
     "text": [
      "Para essa questão deve-se considerar o coeficiente de variação de cada empresa, pois com coeficiente de variação calcula-se a dispersão de acordo com o valor medio, concluindo que quanto menor for o seu coeficiente, mais homogêneos serão os dados, e assim mais qualidade nas produções.\n",
      "\n",
      "\n",
      "Coeficiente de variação da empresa A: 0.17\n",
      "Coeficiente de variação da empresa B: 0.15\n",
      "\n",
      "Com isso, conclui-se que a empresa B é mais confiavel devido ao menor coeficiente de variação e a maior homogeneidade dos seus produtos, garantindo mais qualidade.\n"
     ]
    }
   ],
   "source": [
    "print('Para essa questão deve-se considerar o coeficiente de variação de cada empresa, pois com coeficiente de variação calcula-se a dispersão de acordo com o valor medio, concluindo que quanto menor for o seu coeficiente, mais homogêneos serão os dados, e assim mais qualidade nas produções.')\n",
    "media1 = 10\n",
    "variancia1 = 3\n",
    "media2 = 13\n",
    "variancia2 = 4\n",
    "#desvio padrao = σ²; sendo σ = variância\n",
    "desvio_padrao1 = variancia1**0.5 \n",
    "desvio_padrao2 = variancia2**0.5\n",
    "coef_variacao1 = (desvio_padrao1 / media1)\n",
    "coef_variacao2 = (desvio_padrao2 / media2)\n",
    "print(f'\\n')\n",
    "print(f'Coeficiente de variação da empresa A: {coef_variacao1:.2f}\\nCoeficiente de variação da empresa B: {coef_variacao2:.2f}')\n",
    "print(f'\\nCom isso, conclui-se que a empresa B é mais confiavel devido ao menor coeficiente de variação e a maior homogeneidade dos seus produtos, garantindo mais qualidade.')"
   ]
  },
  {
   "cell_type": "markdown",
   "metadata": {},
   "source": [
    "# 8ª questão \n",
    "<img src=\"tabelajoana.png\">"
   ]
  },
  {
   "cell_type": "code",
   "execution_count": 6,
   "metadata": {},
   "outputs": [
    {
     "name": "stdout",
     "output_type": "stream",
     "text": [
      "A = 130.00\n",
      "B = 82.00\n",
      "\n",
      "Pontos médios:\n",
      "[4,6) = 5\n",
      "[6,8) = 7\n",
      "[8,10) = 9\n",
      "[10,12) = 11\n",
      "[12,16) = 14\n",
      "\n",
      "Tempo médio: 8.93\n"
     ]
    }
   ],
   "source": [
    "# para essa questão será usado o calculo de medidas de tendência central para dados agrupados para descobrir a frequencia da classe da mediana\n",
    "\n",
    "# mediana = li  + ( ( (n/2) - Fci ) / f ) * (ls - li), logo\n",
    "\n",
    "# li = limite inferior da classe da mediana = 8\n",
    "# ls = limite superior da classe da mediana = 10\n",
    "# fci = Frequência simples acumulada da classe anterior à classe da mediana = 148\n",
    "# f = Frequência absoluta da classe da mediana = ?\n",
    "# n = número de frequencias= 400\n",
    "\n",
    "from sympy import symbols, solve # biblioteca para auxilio da resolução da questão\n",
    "\n",
    "f = symbols('f')\n",
    "expr = 8 + ( ( (400/2) - 148 ) / f ) * (10 - 8) - 8.8\n",
    "f = solve(expr)[0]\n",
    "\n",
    "b = symbols('b')\n",
    "b = solve(48 + 100 + f + b + 40 - 400)[0]\n",
    "print(f'A = {f:.2f}\\nB = {b:.2f}')\n",
    "\n",
    "print(f'\\nPontos médios:\\n[4,6) = 5\\n[6,8) = 7\\n[8,10) = 9\\n[10,12) = 11\\n[12,16) = 14')\n",
    "\n",
    "# organizando os dados em lista para auxiliar calculo, transformando os intervalos em pontos médios\n",
    "data = []\n",
    "for i in range(48):\n",
    "    data.append(5)\n",
    "for i in range(100):\n",
    "    data.append(7)\n",
    "for i in range(int(f)):\n",
    "    data.append(9)\n",
    "for i in range(int(b)):\n",
    "    data.append(11)\n",
    "for i in range(40):\n",
    "    data.append(14)\n",
    "# calculo da media\n",
    "\n",
    "media = statistics.mean(data)\n",
    "print(f'\\nTempo médio: {media:.2f}')\n",
    "    "
   ]
  },
  {
   "cell_type": "markdown",
   "metadata": {},
   "source": [
    "# 9ª questão\n",
    "<img src=\"ultima.png\">"
   ]
  },
  {
   "cell_type": "code",
   "execution_count": 8,
   "metadata": {},
   "outputs": [
    {
     "name": "stdout",
     "output_type": "stream",
     "text": [
      "Algoritmo: Bubblesort\n",
      "K_1 : 963\n",
      "Tempo exec.: 0.0999s\n",
      "\n",
      "K_2 : 52\n",
      "Tempo exec.: 0.0638s\n",
      "\n",
      "K_3 : 794\n",
      "Tempo exec.: 0.2545s\n",
      "\n",
      "-------------------------------------------------------------------------------\n",
      "Algoritmo: Quicksort\n",
      "\n",
      "K_1 : 963\n",
      "Tempo exec.: 0.0013s\n",
      "\n",
      "K_2 : 52\n",
      "Tempo exec.: 0.0026s\n",
      "\n",
      "K_3 : 794\n",
      "Tempo exec.: 0.0029s\n",
      "\n",
      "-------------------------------------------------------------------------------\n",
      "Algoritmo: Heapsort\n",
      "\n",
      "K_1 : 963\n",
      "Tempo exec.: 0.0028s\n",
      "\n",
      "K_2 : 52\n",
      "Tempo exec.: 0.0031s\n",
      "\n",
      "K_3 : 794\n",
      "Tempo exec.: 0.0058s\n",
      "\n",
      "Conclusão: pelos dados coletados, percebe-se que o algoritmo mais eficiente entre os 3 estudados é o QuickSort, o HeapSort é ligeiramente inferior e por uma grande diferença o BubbleSort demonstra ser o menos eficiente.\n"
     ]
    }
   ],
   "source": [
    "# para essa questão as duas bibliotecas serão usadas para calculo do tempo de execução e geração de número aleatório\n",
    "import time\n",
    "import random\n",
    "\n",
    "# gerador de número aleatório\n",
    "def gerador(lista, x):\n",
    "    for i in range(x):\n",
    "        n = random.random()\n",
    "        lista.append(n)\n",
    "    return lista\n",
    "\n",
    "#bubblesort\n",
    "def bubblesort(lista):\n",
    "    for i in range(len(lista)):\n",
    "        for j in range(len(lista) - 1):\n",
    "            if lista[j] > lista[j + 1]:\n",
    "                aux = lista[j]\n",
    "                lista[j] = lista[j + 1]\n",
    "                lista[j + 1] = aux\n",
    "    return lista\n",
    "\n",
    "# quicksort\n",
    "def partition(lista,inicio,fim):\n",
    "    q = inicio\n",
    "    for u in range(inicio,fim):\n",
    "        if lista[u] <=lista[fim]:\n",
    "            temp = lista[q]\n",
    "            lista[q] = lista[u]\n",
    "            lista[u] = temp\n",
    "            q +=1\n",
    "    temp = lista[q]\n",
    "    lista[q] = lista[fim]\n",
    "    lista[fim] = temp\n",
    "    return q\n",
    "def quicksort(lista,inicio,fim):\n",
    "    if inicio>=fim:\n",
    "        return\n",
    "    else:\n",
    "        pivo = partition(lista,inicio,fim)\n",
    "        quicksort(lista,inicio,pivo-1)\n",
    "        quicksort(lista,pivo+1,fim)\n",
    "    return lista\n",
    "\n",
    "# heapsort\n",
    "def heapify(lista, n, i):\n",
    "    largest = i\n",
    "    l = 2 * i + 1\n",
    "    r = 2 * i + 2\n",
    "    if l < n and lista[i] < lista[l]:\n",
    "        largest = l\n",
    "    if r < n and lista[largest] < lista[r]:\n",
    "        largest = r\n",
    "    if largest != i:\n",
    "        lista[i], lista[largest] = lista[largest], lista[i]\n",
    "        heapify(lista, n, largest)\n",
    "\n",
    "def heapsort(lista):\n",
    "    n = len(lista)\n",
    "    for i in range(n // 2, -1, -1):\n",
    "        heapify(lista, n, i)\n",
    "    for i in range(n - 1, 0, -1):\n",
    "        lista[i], lista[0] = lista[0], lista[i]\n",
    "        heapify(lista, i, 0)\n",
    "\n",
    "# números que determinarão os tamanhos das sequências\n",
    "n1 = random.randint(0,1000)\n",
    "n2 = random.randint(0,1000)\n",
    "n3 = random.randint(0,1000)\n",
    "\n",
    "lista_bubble = []\n",
    "lista_quick = []\n",
    "lista_heap = []\n",
    "\n",
    "\n",
    "# tempo de sequências de K_n números ordenadas por bubblesort\n",
    "print(f'Algoritmo: Bubblesort')\n",
    "print(f'K_1 : {n1}')\n",
    "lista_bubble_n1 = gerador(lista_bubble, n1)\n",
    "ini = time.time()\n",
    "bubblesort(lista_bubble_n1)\n",
    "fim = time.time()\n",
    "\n",
    "print(f\"Tempo exec.: {fim-ini:.4f}s\")\n",
    "\n",
    "print(f'\\nK_2 : {n2}')\n",
    "lista_bubble_n2 = gerador(lista_bubble, n2)\n",
    "ini = time.time()\n",
    "bubblesort(lista_bubble_n2)\n",
    "fim = time.time()\n",
    "print(f\"Tempo exec.: {fim-ini:.4f}s\")\n",
    "\n",
    "print(f'\\nK_3 : {n3}')\n",
    "lista_bubble_n3 = gerador(lista_bubble, n3)\n",
    "ini = time.time()\n",
    "bubblesort(lista_bubble_n3)\n",
    "fim = time.time()\n",
    "print(f\"Tempo exec.: {fim-ini:.4f}s\")\n",
    "print(f'\\n-------------------------------------------------------------------------------')\n",
    "\n",
    "# tempo de sequências de K_n números ordenadas por quicksort\n",
    "print(f'Algoritmo: Quicksort')\n",
    "print(f'\\nK_1 : {n1}')\n",
    "lista_quick_n1 = gerador(lista_quick, n1)\n",
    "n = len(lista_quick_n1) - 1\n",
    "ini = time.time()\n",
    "quicksort(lista_quick_n1,0,n)\n",
    "fim = time.time()\n",
    "\n",
    "print(f\"Tempo exec.: {fim-ini:.4f}s\")\n",
    "\n",
    "print(f'\\nK_2 : {n2}')\n",
    "lista_quick_n2 = gerador(lista_quick, n2)\n",
    "n = len(lista_quick_n2) - 1\n",
    "ini = time.time()\n",
    "quicksort(lista_quick_n2,0,n)\n",
    "fim = time.time()\n",
    "\n",
    "print(f\"Tempo exec.: {fim-ini:.4f}s\")\n",
    "\n",
    "print(f'\\nK_3 : {n3}')\n",
    "lista_quick_n3 = gerador(lista_quick, n3)\n",
    "n = len(lista_quick_n3) - 1\n",
    "ini = time.time()\n",
    "quicksort(lista_quick_n3,0,n)\n",
    "fim = time.time()\n",
    "\n",
    "print(f\"Tempo exec.: {fim-ini:.4f}s\")\n",
    "print(f'\\n-------------------------------------------------------------------------------')\n",
    "\n",
    "\n",
    "# tempo de sequências de K_n números ordenadas por heapsort\n",
    "print(f'Algoritmo: Heapsort')\n",
    "print(f'\\nK_1 : {n1}')\n",
    "lista_heap_n1 = gerador(lista_heap, n1)\n",
    "ini = time.time()\n",
    "heapsort(lista_heap_n1)\n",
    "fim = time.time()\n",
    "\n",
    "print(f\"Tempo exec.: {fim-ini:.4f}s\")\n",
    "\n",
    "print(f'\\nK_2 : {n2}')\n",
    "lista_heap_n2 = gerador(lista_heap, n2)\n",
    "ini = time.time()\n",
    "heapsort(lista_heap_n2)\n",
    "fim = time.time()\n",
    "\n",
    "print(f\"Tempo exec.: {fim-ini:.4f}s\")\n",
    "\n",
    "print(f'\\nK_3 : {n3}')\n",
    "lista_heap_n3 = gerador(lista_heap, n3)\n",
    "ini = time.time()\n",
    "heapsort(lista_heap_n3)\n",
    "fim = time.time()\n",
    "\n",
    "print(f\"Tempo exec.: {fim-ini:.4f}s\")\n",
    "\n",
    "print(f'\\nConclusão: pelos dados coletados, percebe-se que o algoritmo mais eficiente entre os 3 estudados é o QuickSort, o HeapSort é ligeiramente inferior e por uma grande diferença o BubbleSort demonstra ser o menos eficiente.')"
   ]
  }
 ],
 "metadata": {
  "kernelspec": {
   "display_name": "Python 3 (ipykernel)",
   "language": "python",
   "name": "python3"
  },
  "language_info": {
   "codemirror_mode": {
    "name": "ipython",
    "version": 3
   },
   "file_extension": ".py",
   "mimetype": "text/x-python",
   "name": "python",
   "nbconvert_exporter": "python",
   "pygments_lexer": "ipython3",
   "version": "3.8.10"
  }
 },
 "nbformat": 4,
 "nbformat_minor": 1
}
